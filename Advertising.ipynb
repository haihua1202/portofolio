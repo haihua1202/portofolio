{
 "cells": [
  {
   "cell_type": "markdown",
   "id": "1ec4e126",
   "metadata": {},
   "source": [
    "# 1.1 Scatterplot of TV and Sales"
   ]
  },
  {
   "cell_type": "code",
   "execution_count": 1,
   "id": "9c6cf59b",
   "metadata": {},
   "outputs": [],
   "source": [
    "import pandas as pd"
   ]
  },
  {
   "cell_type": "code",
   "execution_count": 2,
   "id": "04417531",
   "metadata": {},
   "outputs": [],
   "source": [
    "import numpy as np"
   ]
  },
  {
   "cell_type": "code",
   "execution_count": 3,
   "id": "3034154a",
   "metadata": {},
   "outputs": [],
   "source": [
    "df = pd.read_csv(\"Advertising.csv\")"
   ]
  },
  {
   "cell_type": "code",
   "execution_count": 41,
   "id": "ea6bb56d",
   "metadata": {},
   "outputs": [],
   "source": [
    "import matplotlib.pyplot as plt\n",
    "from sklearn.linear_model import LinearRegression"
   ]
  },
  {
   "cell_type": "code",
   "execution_count": 42,
   "id": "8b3061e9",
   "metadata": {},
   "outputs": [],
   "source": [
    "regressor = LinearRegression()"
   ]
  },
  {
   "cell_type": "code",
   "execution_count": 43,
   "id": "0309f326",
   "metadata": {},
   "outputs": [
    {
     "data": {
      "text/plain": [
       "Text(0, 0.5, 'TV')"
      ]
     },
     "execution_count": 43,
     "metadata": {},
     "output_type": "execute_result"
    },
    {
     "data": {
      "image/png": "[encoded data removed]",
      "text/plain": [
       "<Figure size 640x480 with 1 Axes>"
      ]
     },
     "metadata": {},
     "output_type": "display_data"
    }
   ],
   "source": [
    "x = df.TV\n",
    "y = df.Sales\n",
    "plt.scatter(x,y)\n",
    "plt.xlabel('Sales')\n",
    "plt.ylabel('TV')"
   ]
  },
  {
   "cell_type": "markdown",
   "id": "8e0591b9",
   "metadata": {},
   "source": [
    "# 1.2 Linear Regression"
   ]
  },
  {
   "cell_type": "code",
   "execution_count": 73,
   "id": "1cedec7b",
   "metadata": {},
   "outputs": [],
   "source": [
    "x = df['Sales'].values.reshape(-1,1)\n",
    "y = df['TV'].values.reshape(-1,1)"
   ]
  },
  {
   "cell_type": "code",
   "execution_count": 74,
   "id": "7e2ac438",
   "metadata": {},
   "outputs": [],
   "source": [
    "from sklearn.model_selection import train_test_split"
   ]
  },
  {
   "cell_type": "code",
   "execution_count": 75,
   "id": "21d203a6",
   "metadata": {},
   "outputs": [],
   "source": [
    "x_train, x_test, y_train, y_test = train_test_split(x, y, test_size = 0.2)"
   ]
  },
  {
   "cell_type": "code",
   "execution_count": 76,
   "id": "b911d6bd",
   "metadata": {},
   "outputs": [
    {
     "name": "stdout",
     "output_type": "stream",
     "text": [
      "[[ 6.6]\n",
      " [12.9]\n",
      " [20.8]\n",
      " [18.4]\n",
      " [17.4]\n",
      " [12.7]\n",
      " [19. ]\n",
      " [27. ]\n",
      " [15.3]\n",
      " [14.6]\n",
      " [14.5]\n",
      " [10.8]\n",
      " [21.2]\n",
      " [16.7]\n",
      " [15.9]\n",
      " [20.2]\n",
      " [ 5.6]\n",
      " [ 5.7]\n",
      " [ 8.7]\n",
      " [ 7.3]\n",
      " [21.8]\n",
      " [20.2]\n",
      " [14.9]\n",
      " [11.7]\n",
      " [19.8]\n",
      " [25.4]\n",
      " [22.1]\n",
      " [21.4]\n",
      " [22.4]\n",
      " [11.7]\n",
      " [11.7]\n",
      " [12.5]\n",
      " [14.9]\n",
      " [ 1.6]\n",
      " [ 7.3]\n",
      " [11.3]\n",
      " [12.2]\n",
      " [13.6]\n",
      " [ 9.7]\n",
      " [12. ]\n",
      " [10.1]\n",
      " [17.3]\n",
      " [10.1]\n",
      " [ 7. ]\n",
      " [12.9]\n",
      " [25.4]\n",
      " [10.4]\n",
      " [ 9.6]\n",
      " [ 7.2]\n",
      " [23.8]\n",
      " [ 7.6]\n",
      " [10.3]\n",
      " [11. ]\n",
      " [15.5]\n",
      " [18.3]\n",
      " [12.6]\n",
      " [ 8.1]\n",
      " [11.4]\n",
      " [ 7.2]\n",
      " [17.1]\n",
      " [22.6]\n",
      " [11.9]\n",
      " [11. ]\n",
      " [13.2]\n",
      " [13.4]\n",
      " [ 9.5]\n",
      " [ 9.7]\n",
      " [19.4]\n",
      " [11.6]\n",
      " [12.4]\n",
      " [ 9.5]\n",
      " [21.7]\n",
      " [ 3.2]\n",
      " [12.6]\n",
      " [20.7]\n",
      " [ 8. ]\n",
      " [11.4]\n",
      " [12.8]\n",
      " [13.4]\n",
      " [10.9]\n",
      " [14.4]\n",
      " [ 9.2]\n",
      " [ 9.6]\n",
      " [13.2]\n",
      " [15. ]\n",
      " [ 8.7]\n",
      " [20.1]\n",
      " [ 9.4]\n",
      " [19.2]\n",
      " [25.5]\n",
      " [12.3]\n",
      " [24.2]\n",
      " [18. ]\n",
      " [11.6]\n",
      " [15.9]\n",
      " [ 5.3]\n",
      " [14.7]\n",
      " [ 6.7]\n",
      " [18.5]\n",
      " [ 6.6]\n",
      " [16.9]\n",
      " [17.3]\n",
      " [24.7]\n",
      " [19.7]\n",
      " [14.1]\n",
      " [ 4.8]\n",
      " [10.1]\n",
      " [15.9]\n",
      " [23.2]\n",
      " [15.2]\n",
      " [15.7]\n",
      " [ 9.7]\n",
      " [15.9]\n",
      " [11.8]\n",
      " [14.7]\n",
      " [10.7]\n",
      " [20.7]\n",
      " [ 8.8]\n",
      " [26.2]\n",
      " [ 5.3]\n",
      " [13.4]\n",
      " [20.7]\n",
      " [17.2]\n",
      " [ 7.6]\n",
      " [18. ]\n",
      " [18.9]\n",
      " [10.6]\n",
      " [ 8.7]\n",
      " [10.6]\n",
      " [12.8]\n",
      " [ 9.7]\n",
      " [ 8.8]\n",
      " [19. ]\n",
      " [ 9.3]\n",
      " [14.6]\n",
      " [10.5]\n",
      " [11.8]\n",
      " [12.9]\n",
      " [10.9]\n",
      " [14. ]\n",
      " [ 9.7]\n",
      " [15.6]\n",
      " [17.1]\n",
      " [15.5]\n",
      " [14.8]\n",
      " [13.3]\n",
      " [10.4]\n",
      " [17.6]\n",
      " [22.2]\n",
      " [ 8.4]\n",
      " [ 9.5]\n",
      " [15.2]\n",
      " [11.9]\n",
      " [23.7]\n",
      " [12.9]\n",
      " [11.8]\n",
      " [14.8]\n",
      " [11.9]\n",
      " [16.6]\n",
      " [ 9.3]]\n"
     ]
    }
   ],
   "source": [
    "print(x_train)"
   ]
  },
  {
   "cell_type": "code",
   "execution_count": 83,
   "id": "5c2125bb",
   "metadata": {},
   "outputs": [
    {
     "name": "stdout",
     "output_type": "stream",
     "text": [
      "[[ 19.4]\n",
      " [206.9]\n",
      " [273.7]\n",
      " [210.7]\n",
      " [214.7]\n",
      " [265.2]\n",
      " [171.3]\n",
      " [276.9]\n",
      " [ 93.9]\n",
      " [147.3]\n",
      " [164.5]\n",
      " [ 39.5]\n",
      " [182.6]\n",
      " [109.8]\n",
      " [209.6]\n",
      " [262.7]\n",
      " [ 13.2]\n",
      " [  8.4]\n",
      " [ 90.4]\n",
      " [ 28.6]\n",
      " [241.7]\n",
      " [248.4]\n",
      " [175.1]\n",
      " [168.4]\n",
      " [255.4]\n",
      " [266.9]\n",
      " [230.1]\n",
      " [292.9]\n",
      " [195.4]\n",
      " [197.6]\n",
      " [222.4]\n",
      " [ 67.8]\n",
      " [188.4]\n",
      " [  0.7]\n",
      " [ 11.7]\n",
      " [ 69.2]\n",
      " [206.8]\n",
      " [ 68.4]\n",
      " [ 97.5]\n",
      " [262.9]\n",
      " [ 44.7]\n",
      " [149.7]\n",
      " [149.8]\n",
      " [ 18.8]\n",
      " [180.8]\n",
      " [289.7]\n",
      " [ 44.5]\n",
      " [ 43. ]\n",
      " [ 25. ]\n",
      " [296.4]\n",
      " [ 38.2]\n",
      " [139.5]\n",
      " [116. ]\n",
      " [141.3]\n",
      " [199.1]\n",
      " [165.6]\n",
      " [ 53.5]\n",
      " [ 96.2]\n",
      " [  8.7]\n",
      " [177. ]\n",
      " [216.4]\n",
      " [112.9]\n",
      " [129.4]\n",
      " [120.2]\n",
      " [225.8]\n",
      " [ 95.7]\n",
      " [ 59.6]\n",
      " [217.7]\n",
      " [ 48.3]\n",
      " [109.8]\n",
      " [ 31.5]\n",
      " [213.5]\n",
      " [  4.1]\n",
      " [ 75.1]\n",
      " [184.9]\n",
      " [ 17.9]\n",
      " [199.8]\n",
      " [177. ]\n",
      " [139.3]\n",
      " [ 38. ]\n",
      " [172.5]\n",
      " [ 23.8]\n",
      " [ 97.2]\n",
      " [240.1]\n",
      " [142.9]\n",
      " [ 16.9]\n",
      " [220.5]\n",
      " [ 76.4]\n",
      " [137.9]\n",
      " [283.6]\n",
      " [239.8]\n",
      " [261.3]\n",
      " [163.5]\n",
      " [224. ]\n",
      " [286. ]\n",
      " [ 13.1]\n",
      " [187.9]\n",
      " [ 18.7]\n",
      " [151.5]\n",
      " [  7.8]\n",
      " [163.3]\n",
      " [191.1]\n",
      " [220.3]\n",
      " [229.5]\n",
      " [175.7]\n",
      " [  8.6]\n",
      " [ 43.1]\n",
      " [125.7]\n",
      " [239.9]\n",
      " [193.2]\n",
      " [239.3]\n",
      " [ 94.2]\n",
      " [240.1]\n",
      " [ 76.4]\n",
      " [ 74.7]\n",
      " [100.4]\n",
      " [293.6]\n",
      " [ 26.8]\n",
      " [287.6]\n",
      " [  5.4]\n",
      " [232.1]\n",
      " [238.2]\n",
      " [135.2]\n",
      " [ 19.6]\n",
      " [131.1]\n",
      " [248.8]\n",
      " [ 87.2]\n",
      " [ 56.2]\n",
      " [199.8]\n",
      " [290.7]\n",
      " [ 62.3]\n",
      " [ 80.2]\n",
      " [204.1]\n",
      " [ 17.2]\n",
      " [ 78.2]\n",
      " [156.6]\n",
      " [276.7]\n",
      " [ 88.3]\n",
      " [ 73.4]\n",
      " [102.7]\n",
      " [ 66.9]\n",
      " [187.8]\n",
      " [215.4]\n",
      " [184.9]\n",
      " [227.2]\n",
      " [ 85.7]\n",
      " [104.6]\n",
      " [253.8]\n",
      " [250.9]\n",
      " [ 50. ]\n",
      " [ 25.6]\n",
      " [123.1]\n",
      " [117.2]\n",
      " [198.9]\n",
      " [131.7]\n",
      " [ 57.5]\n",
      " [280.2]\n",
      " [234.5]\n",
      " [202.5]\n",
      " [ 69. ]]\n"
     ]
    }
   ],
   "source": [
    "print(y_train)"
   ]
  },
  {
   "cell_type": "code",
   "execution_count": 85,
   "id": "826f7f52",
   "metadata": {},
   "outputs": [
    {
     "name": "stdout",
     "output_type": "stream",
     "text": [
      "[-37.1802602]\n",
      "[[13.06367145]]\n"
     ]
    }
   ],
   "source": [
    "regressor.fit(x_train,y_train)\n",
    "print(regressor.intercept_)\n",
    "print(regressor.coef_)"
   ]
  },
  {
   "cell_type": "code",
   "execution_count": null,
   "id": "233cc971",
   "metadata": {},
   "outputs": [],
   "source": [
    "## Conclusion: The coefficient of TV advertisement and sales is 13 and intercept is -37"
   ]
  },
  {
   "cell_type": "markdown",
   "id": "11e5c6fb",
   "metadata": {},
   "source": [
    "## 1.3 Multiple regression model from all three advertisement"
   ]
  },
  {
   "cell_type": "code",
   "execution_count": 91,
   "id": "41ff1cbe",
   "metadata": {},
   "outputs": [],
   "source": [
    "x=df[['TV','Radio','Newspaper']]\n",
    "y=df['Sales']"
   ]
  },
  {
   "cell_type": "code",
   "execution_count": 93,
   "id": "36e7c2d3",
   "metadata": {},
   "outputs": [
    {
     "name": "stdout",
     "output_type": "stream",
     "text": [
      "[29.1785054]\n"
     ]
    },
    {
     "name": "stderr",
     "output_type": "stream",
     "text": [
      "/Users/jinchengguang/opt/anaconda3/lib/python3.9/site-packages/sklearn/base.py:450: UserWarning: X does not have valid feature names, but LinearRegression was fitted with feature names\n",
      "  warnings.warn(\n"
     ]
    }
   ],
   "source": [
    "regressor.fit(x,y)\n",
    "predicted_sales = regressor.predict([[450,30,10]])\n",
    "print(predicted_sales)"
   ]
  },
  {
   "cell_type": "code",
   "execution_count": null,
   "id": "75939ce4",
   "metadata": {},
   "outputs": [],
   "source": [
    "## Conclusion: if the advertisement spending on TV, Radio and Newspaper are seperately 450,30 and 10, the predicted sales will be 29"
   ]
  },
  {
   "cell_type": "markdown",
   "id": "7490d581",
   "metadata": {},
   "source": [
    "## 2.1 Calculate Max value of each row"
   ]
  },
  {
   "cell_type": "code",
   "execution_count": 112,
   "id": "aa3af202",
   "metadata": {},
   "outputs": [],
   "source": [
    "max_ad = df.max(axis=1)"
   ]
  },
  {
   "cell_type": "code",
   "execution_count": 113,
   "id": "14206ba6",
   "metadata": {},
   "outputs": [
    {
     "name": "stdout",
     "output_type": "stream",
     "text": [
      "0      230.1\n",
      "1       45.1\n",
      "2       69.3\n",
      "3      151.5\n",
      "4      180.8\n",
      "       ...  \n",
      "195    196.0\n",
      "196    197.0\n",
      "197    198.0\n",
      "198    283.6\n",
      "199    232.1\n",
      "Length: 200, dtype: float64\n"
     ]
    }
   ],
   "source": [
    "print(max_ad)"
   ]
  },
  {
   "cell_type": "code",
   "execution_count": null,
   "id": "0e297858",
   "metadata": {},
   "outputs": [],
   "source": []
  },
  {
   "cell_type": "code",
   "execution_count": null,
   "id": "b439b239",
   "metadata": {},
   "outputs": [],
   "source": []
  },
  {
   "cell_type": "code",
   "execution_count": null,
   "id": "3f182ce8",
   "metadata": {},
   "outputs": [],
   "source": []
  },
  {
   "cell_type": "code",
   "execution_count": null,
   "id": "23ae1cd5",
   "metadata": {},
   "outputs": [],
   "source": []
  }
 ],
 "metadata": {
  "kernelspec": {
   "display_name": "Python 3 (ipykernel)",
   "language": "python",
   "name": "python3"
  },
  "language_info": {
   "codemirror_mode": {
    "name": "ipython",
    "version": 3
   },
   "file_extension": ".py",
   "mimetype": "text/x-python",
   "name": "python",
   "nbconvert_exporter": "python",
   "pygments_lexer": "ipython3",
   "version": "3.9.13"
  }
 },
 "nbformat": 4,
 "nbformat_minor": 5
}
